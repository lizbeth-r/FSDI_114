{
 "cells": [
  {
   "cell_type": "code",
   "execution_count": null,
   "id": "23ef19f7-882c-4316-b825-ad222731b922",
   "metadata": {},
   "outputs": [],
   "source": [
    "# Stacks and Queues\n",
    "Stacks and queues are ordered collections of elements."
   ]
  },
  {
   "cell_type": "code",
   "execution_count": 2,
   "id": "4f797523-4028-4ba6-9897-ca1f27e37c89",
   "metadata": {},
   "outputs": [],
   "source": [
    "# Simplified implementation of Stack (relying on built-ins)\n",
    "\n",
    "class Stack:\n",
    "    def __init__(self):\n",
    "        self.items = []\n",
    "\n",
    "    def push(self, value):\n",
    "        self.items.append(value)\n",
    "\n",
    "    def pop(self):\n",
    "        return self.items.pop()\n",
    "\n",
    "    #Nice to have methods\n",
    "    def peek(sefl):\n",
    "        return selt.items[len(self.items)-1]\n",
    "\n",
    "    def size(self):\n",
    "        return len(self.items)\n",
    "\n",
    "    def is_empty(self):\n",
    "        return self.items == []"
   ]
  },
  {
   "cell_type": "code",
   "execution_count": 3,
   "id": "01731c56-a352-486d-94ca-9b416f5a3dc5",
   "metadata": {},
   "outputs": [],
   "source": [
    "# From scratch implementation of Stack\n",
    "\n",
    "class StackII:\n",
    "    class __Node:\n",
    "        def __init__(self, data):\n",
    "            self.data = data\n",
    "            self.next = None\n",
    "\n",
    "    def __init__(self):\n",
    "        self.top = None\n",
    "\n",
    "    def push(self):\n",
    "        new_node = self.__Node(value)\n",
    "        if not self.top:\n",
    "            self.top = new_node\n",
    "        else:\n",
    "            new_node.below = self.top\n",
    "            self.top = new_node\n",
    "\n",
    "    def pop(self):\n",
    "        if self.top\n",
    "            datum = self.top.data\n",
    "            self.top = self.top.below\n",
    "            return datum\n",
    "        raise IndexError(\"Stack is empty\")\n",
    "\n",
    "    # Nice to have methods\n",
    "    def peek(self):\n",
    "        if self.top\n",
    "            return self.top.data\n",
    "        raise IndexError(\"Stack is empty\")\n",
    "\n",
    "    def size(self):\n",
    "        # Node traversal\n",
    "        count = 0\n",
    "        if self.top:\n",
    "            current = self.top\n",
    "            while current:\n",
    "                count += 1\n",
    "                current = current.below\n",
    "        return count\n",
    "\n",
    "    def is_empty(self):\n",
    "        return self.top == None"
   ]
  },
  {
   "cell_type": "code",
   "execution_count": null,
   "id": "ba2fd3a6-55e0-486c-bc56-42179afb3b6b",
   "metadata": {},
   "outputs": [],
   "source": [
    "def invert_str(mystring, class_name):\n",
    "    stack = class_name()\n",
    "    for chat in mystring:\n",
    "        stack.push(char)\n",
    "    out = \"\"\n",
    "    while not stack.is_empty():\n",
    "        out += stack.pop()\n",
    "    return out"
   ]
  },
  {
   "cell_type": "code",
   "execution_count": null,
   "id": "0a04a44b-96fa-473c-9b15-a503defd60fd",
   "metadata": {},
   "outputs": [],
   "source": [
    "# with built-in implementation:\n",
    "print (invert_str(\"Lizbeth\", Stack))\n",
    "\n",
    "# with from-scratch implementation:\n",
    "print(invert_str(\"Lizbeth\", StackII)"
   ]
  }
 ],
 "metadata": {
  "kernelspec": {
   "display_name": "Python 3 (ipykernel)",
   "language": "python",
   "name": "python3"
  },
  "language_info": {
   "codemirror_mode": {
    "name": "ipython",
    "version": 3
   },
   "file_extension": ".py",
   "mimetype": "text/x-python",
   "name": "python",
   "nbconvert_exporter": "python",
   "pygments_lexer": "ipython3",
   "version": "3.12.7"
  }
 },
 "nbformat": 4,
 "nbformat_minor": 5
}
