{
 "cells": [
  {
   "cell_type": "markdown",
   "id": "4ed865b1-538f-43cb-b9b1-12207a80f1ba",
   "metadata": {},
   "source": [
    "# Doubly Linked Lists or Bi-directional lists\n",
    "\n",
    "Last class we learned about Singly Linked Lists, and we know that these are also called uni-directional lists, as traversal can only happen in one direction due to the fact that nodes in singly linked lists only keep a single reference to the next node in the sequence. This means that the linked list can only be traversed in one direction by following the references.\n",
    "\n",
    "In contrast, a doubly linked list uses nodes that have two references: one to the next node in the list and one to the previous node. This means that traversal can occur from head to tail or vice-versa."
   ]
  },
  {
   "cell_type": "code",
   "execution_count": 2,
   "id": "e12315c7-c603-4442-bd3f-5a64cb7209f7",
   "metadata": {},
   "outputs": [],
   "source": [
    "# From scratch implementation of doubly linked lists\n",
    "class DoublyLinkedList:\n",
    "    class __Node:\n",
    "        def __init__(self, datum):\n",
    "            self.data = datum\n",
    "            self.next = None\n",
    "            self. prev = None\n",
    "            \n",
    "    def __init__(self):\n",
    "        self.head = None\n",
    "        self.tail = None\n",
    "        self.size = 0\n",
    "\n",
    "    def append(self, datum):\n",
    "        # This method should add a new node as the tail of the list. If there is no head node, this also becomes\n",
    "        pass\n",
    "\n",
    "    def remove(self, datum):\n",
    "        # This method should remove the first node that has \"datum\" in its data attribute. Raise a ValueError if\n",
    "        pass\n",
    "        \n",
    "    def __len__(self):\n",
    "        # This method should return the total number of nodes in the list.\n",
    "        return self.size\n",
    "\n",
    "    def __str__(self):\n",
    "        # This method should return a string representation of all the values stored in the list (IE: [1, 2, 3])\n",
    "        out = \"[\"\n",
    "        if self.head:\n",
    "            current = self.head\n",
    "            out += \"%s\" % repr(current.data)\n",
    "            current = current.next\n",
    "            while current:\n",
    "                out += \", %s\" % repr(current.data)\n",
    "                current = current.next\n",
    "        out += \"]\" \n",
    "        return out\n",
    "        \n",
    "    def insert(self, index, datum):\n",
    "        # inserts a new node before the target index\n",
    "        new_node = self.__Node(datum)\n",
    "\n",
    "    def insert(self, index, datum):\n",
    "        # inserts a new node before the target index\n",
    "        new_node = self.__Node(datum)\n",
    "        self.size += 1\n",
    "        found = False\n",
    "        count = 0\n",
    "        if self.head:\n",
    "            current = self.head\n",
    "            if index == 0:\n",
    "                # this means we're attempting to replace the head node\n",
    "                new_node.next = self.head\n",
    "                self.head.prev = new_node\n",
    "                self. head = new_node\n",
    "            else:\n",
    "                while current.next:\n",
    "                    if count == index:\n",
    "                        found = True\n",
    "                        break\n",
    "                    current = current.next\n",
    "                    count += 1\n",
    "                if found:\n",
    "                    current.prev.next = new_node\n",
    "                    new_node.prev = current.prev\n",
    "                    new_node.next = current\n",
    "                    current.prev = new_node\n",
    "                else:\n",
    "                    self.append (datum)\n",
    "        else:\n",
    "            self.head = new_node\n",
    "            self.tail = new_node"
   ]
  },
  {
   "cell_type": "code",
   "execution_count": 4,
   "id": "46bc3e15-ea26-48ec-b6b0-dd690818caca",
   "metadata": {},
   "outputs": [
    {
     "name": "stdout",
     "output_type": "stream",
     "text": [
      "[1]\n"
     ]
    }
   ],
   "source": [
    "dll = DoublyLinkedList()\n",
    "\n",
    "# When the list is empty:\n",
    "dll.insert(0,1)\n",
    "\n",
    "# When the list is not empty but the index exceeds the length of the list\n",
    "dll.insert(2, 2)\n",
    "\n",
    "# When the list is not empty but the index does not exceed the length of the list\n",
    "dll.insert(2, 1.5)\n",
    "\n",
    "print(dll)"
   ]
  },
  {
   "cell_type": "markdown",
   "id": "e2680601-d6ec-48e6-b237-942129e29028",
   "metadata": {},
   "source": [
    "# Recursive Functions\n",
    "In general, a recursive function is a function that calls itself at least once (although not exclusively once).\n",
    "\n",
    "A well-crafted recursive function will generally have an exit condition that is typically referred to as the base case.\n",
    "\n",
    "The base represents something we absolutely know to be true about a problem."
   ]
  },
  {
   "cell_type": "code",
   "execution_count": 5,
   "id": "fbd716e9-ce96-4c46-91a5-3e11f15bd847",
   "metadata": {},
   "outputs": [],
   "source": [
    "# A simple example of recursive functions: The factorial function\n",
    "# 5! = 5x4x3x2x1 = 120\n",
    "# 5! = 120\n",
    "# Another way to represent this, focusing on recursion is the following:\n",
    "# 5! = 5x4!\n",
    "# 4! = 4x3!\n",
    "# 3! = 3x2!\n",
    "# 2! = 2x1!\n",
    "\n",
    "# The factorial of 0 is actually 1.\n",
    "# 0! = 1\n",
    "\n",
    "def factorial(n):\n",
    "    if n == 0:\n",
    "        return 1\n",
    "    return n*factorial(n-1)"
   ]
  },
  {
   "cell_type": "code",
   "execution_count": 6,
   "id": "dc8ded8f-2f84-44a0-a83a-49a449656dbc",
   "metadata": {},
   "outputs": [
    {
     "data": {
      "text/plain": [
       "3628800"
      ]
     },
     "execution_count": 6,
     "metadata": {},
     "output_type": "execute_result"
    }
   ],
   "source": [
    "factorial(10)"
   ]
  },
  {
   "cell_type": "code",
   "execution_count": null,
   "id": "2404694b-41f3-40e3-917e-80243d9b9af0",
   "metadata": {},
   "outputs": [],
   "source": [
    "# The fibonacci function has long been a topic of discussion when it comes to\n",
    "# recursive functions as it creates multiple copies of itself in memory to solve a problem.\n",
    "\n",
    "# Base case:\n",
    "# F0 = 0 →> \"F sub-index 0 is 0\"\n",
    "# F1 = 1 —> \"F sub-index 1 is 1\"\n",
    "\n",
    "# Additional numbers in the series can be calculated with:\n",
    "# Fn = Fn-1 + Fn-2\n",
    "\n",
    "# 0, 1, 2, 3, 4, 5, 6, 7, 8\n",
    "# 0, 1, 1, 2, 3, 5, 8, 13, 21 ...\n",
    "\n",
    "# What is the 21st fibonacci number?\n",
    "from functools import lru_cache\n",
    "\n",
    "@lru_cache\n",
    "def fib(n):\n",
    "    if n < 2:\n",
    "        return n\n",
    "    return fib(n-1) + fib(n-2)\n"
   ]
  },
  {
   "cell_type": "code",
   "execution_count": null,
   "id": "699b9554-afbd-443e-ba3b-7650392918a1",
   "metadata": {},
   "outputs": [],
   "source": [
    "fib(30)"
   ]
  },
  {
   "cell_type": "code",
   "execution_count": null,
   "id": "8055ecf3-5bd8-4b58-b9b5-40bb2448062c",
   "metadata": {},
   "outputs": [],
   "source": [
    "# Pseudocode for fibonacci with dictionary\n",
    "\n",
    "# mydictionary = new dictionary\n",
    "# Define fibonacci with parameter n of type integer:\n",
    "#    if n < 2:\n",
    "#        return n\n",
    "#    if n is in mydictionary:\n",
    "#        return the value for n from mydictionary\n",
    "#    else:\n",
    "#        out = fibonacci(n-1) + fibonacci(n-2)\n",
    "#        create a new key in mydictionary and set the value to out\n",
    "#        return out"
   ]
  }
 ],
 "metadata": {
  "kernelspec": {
   "display_name": "Python 3 (ipykernel)",
   "language": "python",
   "name": "python3"
  },
  "language_info": {
   "codemirror_mode": {
    "name": "ipython",
    "version": 3
   },
   "file_extension": ".py",
   "mimetype": "text/x-python",
   "name": "python",
   "nbconvert_exporter": "python",
   "pygments_lexer": "ipython3",
   "version": "3.12.7"
  }
 },
 "nbformat": 4,
 "nbformat_minor": 5
}
