{
 "cells": [
  {
   "cell_type": "markdown",
   "id": "4ed865b1-538f-43cb-b9b1-12207a80f1ba",
   "metadata": {},
   "source": [
    "# Doubly Linked Lists or Bi-directional lists\n",
    "\n",
    "Last class we learned about Singly Linked Lists, and we know that these are also called uni-directional lists, as traversal can only happen in one direction due to the fact that nodes in singly linked lists only keep a single reference to the next node in the sequence. This means that the linked list can only be traversed in one direction by following the references.\n",
    "\n",
    "In contrast, a doubly linked list uses nodes that have two references: one to the next node in the list and one to the previous node. This means that traversal can occur from head to tail or vice-versa."
   ]
  },
  {
   "cell_type": "code",
   "execution_count": null,
   "id": "e12315c7-c603-4442-bd3f-5a64cb7209f7",
   "metadata": {},
   "outputs": [],
   "source": []
  }
 ],
 "metadata": {
  "kernelspec": {
   "display_name": "Python 3 (ipykernel)",
   "language": "python",
   "name": "python3"
  },
  "language_info": {
   "codemirror_mode": {
    "name": "ipython",
    "version": 3
   },
   "file_extension": ".py",
   "mimetype": "text/x-python",
   "name": "python",
   "nbconvert_exporter": "python",
   "pygments_lexer": "ipython3",
   "version": "3.12.7"
  }
 },
 "nbformat": 4,
 "nbformat_minor": 5
}
