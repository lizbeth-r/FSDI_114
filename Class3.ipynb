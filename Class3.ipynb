{
 "cells": [
  {
   "cell_type": "markdown",
   "id": "91e55263-1bb7-4896-a04c-62a2a0854660",
   "metadata": {},
   "source": [
    "# Queue\n",
    "A queue is an ordered collection where items are added and removed from opposite ends.\n",
    "The ordering principle is represented by the acronym FIFO (first in, first out)."
   ]
  },
  {
   "cell_type": "code",
   "execution_count": 2,
   "id": "8a92f852-d488-43c5-a142-29126ff06922",
   "metadata": {},
   "outputs": [],
   "source": [
    "# Simplified implementation of Queue (relying on built-ins)\n",
    "class Queue:\n",
    "    def __init__ (self):\n",
    "        self.items = []\n",
    "    \n",
    "    def enqueue(self, datum) :\n",
    "        self.items. insert(0, datum)\n",
    "    \n",
    "    def dequeue (self) :\n",
    "        return self.items.pop()\n",
    "    \n",
    "# Nice to have methods\n",
    "    def peek(self):\n",
    "        return self. items [len(self.items)-1]\n",
    "        \n",
    "    def is_empty(self):\n",
    "        return self.items == []\n",
    "        \n",
    "    def size(self):\n",
    "        return len (self.items)"
   ]
  },
  {
   "cell_type": "markdown",
   "id": "01e24515-97b4-4739-af9c-6c4ca7aace66",
   "metadata": {},
   "source": [
    "# Problem 1\n",
    "Create a \"from scratch\" implementation of Queue, named Queuell, which like Stackll from last class, does not rely on built-ins.\n",
    "\n",
    "# Criteria\n",
    "1. Your Queuell class should use an embedded Node class.\n",
    "2. Your Queuell class should support the following methods:\n",
    "C. enqueue\n",
    "D. dequeue\n",
    "E. is_empty\n",
    "F. size\n",
    "G. peek\n",
    "3. The worst case time complexity for enqueue and dequeue should be O(1) or constant.\n",
    "\n",
    "# Note\n",
    "The example above should help you test and ensure you are implementing your queue correctly."
   ]
  },
  {
   "cell_type": "code",
   "execution_count": 3,
   "id": "23b6136b-df11-4561-93f3-baa0b2e32a81",
   "metadata": {},
   "outputs": [
    {
     "name": "stdout",
     "output_type": "stream",
     "text": [
      "Dequeued: 1\n",
      "Dequeued: 2\n",
      "Dequeued: 3\n",
      "Dequeued: 4\n",
      "Dequeued: 5\n",
      "Dequeued: 6\n",
      "Dequeued: 7\n",
      "Dequeued: 8\n",
      "Dequeued: 9\n",
      "Dequeued: 10\n"
     ]
    }
   ],
   "source": [
    "queue = Queue ()\n",
    "for number in range(1, 11): \n",
    "    queue. enqueue(number)\n",
    "    \n",
    "while not queue. is_empty():\n",
    "    print (\"Dequeued: %s\" % queue. dequeue())"
   ]
  },
  {
   "cell_type": "markdown",
   "id": "fec4b218-59a8-4215-a5de-ff8ef2759e63",
   "metadata": {},
   "source": [
    "# Linked Lists\n",
    "In general, there are two varities of linked lists and these are:\n",
    "1. Singly Linked Lists also known as uni-directional lists\n",
    "2. Doubly Linked Lists also known as bi-directional lists\n",
    "Today, we'll have a look at singly linked lists and how they work."
   ]
  },
  {
   "cell_type": "code",
   "execution_count": 4,
   "id": "57aa69b4-0abe-4b59-bbbd-657da674e286",
   "metadata": {},
   "outputs": [
    {
     "ename": "IndentationError",
     "evalue": "expected an indented block after class definition on line 2 (1763587216.py, line 3)",
     "output_type": "error",
     "traceback": [
      "\u001b[0;36m  Cell \u001b[0;32mIn[4], line 3\u001b[0;36m\u001b[0m\n\u001b[0;31m    class __Node:\u001b[0m\n\u001b[0m    ^\u001b[0m\n\u001b[0;31mIndentationError\u001b[0m\u001b[0;31m:\u001b[0m expected an indented block after class definition on line 2\n"
     ]
    }
   ],
   "source": [
    "# From scratch implementation of Singly Linked Lists\n",
    "class SinglyLinkedList:\n",
    "class __Node:\n",
    "    def _init_(self, datum) :\n",
    "        self.data = datum\n",
    "        self.next = None\n",
    "        \n",
    "    def _init_(self):\n",
    "        self.head = None\n",
    "        self.tail = None\n",
    "        self.size = 0\n",
    "        \n",
    "    def append (self, datum):\n",
    "        new_node = self._Node (datum)\n",
    "        self.size += 1\n",
    "        if not self.head:\n",
    "            self. head = new_node\n",
    "            self.tail = new_node\n",
    "        else:\n",
    "            self.tail.next = new_node\n",
    "            self.tail = new_node\n",
    "    \n",
    "    def remove(self, datum):\n",
    "    # removes the first instance of \"datum\" from the list if found; ValueError if not found\n",
    "    if self.head:\n",
    "        previous = None\n",
    "        current = self.head\n",
    "        while current and current.data != datum:\n",
    "            previous = current\n",
    "            current = current.next\n",
    "        if not current:\n",
    "            raise ValueError(\"&s not found in list\" % datum\n",
    "        else:\n",
    "            if previous:\n",
    "                previous.next = current. next\n",
    "            else:\n",
    "                self.head = self.head.next\n",
    "                if not self.head:\n",
    "                self.tail = None\n",
    "            self.size -= 1\n",
    "        else:"
   ]
  },
  {
   "cell_type": "code",
   "execution_count": null,
   "id": "7ee1e384-9681-4daa-b399-e962de582f65",
   "metadata": {},
   "outputs": [],
   "source": []
  }
 ],
 "metadata": {
  "kernelspec": {
   "display_name": "Python 3 (ipykernel)",
   "language": "python",
   "name": "python3"
  },
  "language_info": {
   "codemirror_mode": {
    "name": "ipython",
    "version": 3
   },
   "file_extension": ".py",
   "mimetype": "text/x-python",
   "name": "python",
   "nbconvert_exporter": "python",
   "pygments_lexer": "ipython3",
   "version": "3.12.7"
  }
 },
 "nbformat": 4,
 "nbformat_minor": 5
}
