{
 "cells": [
  {
   "cell_type": "code",
   "execution_count": null,
   "id": "0accd14c-885e-4c04-9875-cb85dc14db5f",
   "metadata": {},
   "outputs": [],
   "source": []
  }
 ],
 "metadata": {
  "kernelspec": {
   "display_name": "",
   "name": ""
  },
  "language_info": {
   "name": ""
  }
 },
 "nbformat": 4,
 "nbformat_minor": 5
}
