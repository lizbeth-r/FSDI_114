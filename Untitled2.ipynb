{
 "cells": [
  {
   "cell_type": "code",
   "execution_count": 1,
   "id": "0407ad57-839f-4907-80bc-920dc69adebb",
   "metadata": {
    "scrolled": true
   },
   "outputs": [
    {
     "name": "stdout",
     "output_type": "stream",
     "text": [
      "h\n",
      "e\n",
      "l\n",
      "l\n",
      "o\n",
      ",\n",
      "w\n",
      "o\n",
      "r\n",
      "l\n",
      "d\n",
      "!\n"
     ]
    }
   ],
   "source": [
    "for char in \"hello,world!\":\n",
    "    print(char)"
   ]
  },
  {
   "cell_type": "markdown",
   "id": "0b78637a-3016-469a-95fc-902dddd1b2df",
   "metadata": {},
   "source": [
    "# Stacks and Queues\n",
    "Stacks and queues are ordered collections of elements. The ordering principle is important."
   ]
  },
  {
   "cell_type": "code",
   "execution_count": null,
   "id": "2c3963a1-22b3-4288-90a3-1b055171ace4",
   "metadata": {},
   "outputs": [],
   "source": []
  }
 ],
 "metadata": {
  "kernelspec": {
   "display_name": "Python 3 (ipykernel)",
   "language": "python",
   "name": "python3"
  },
  "language_info": {
   "codemirror_mode": {
    "name": "ipython",
    "version": 3
   },
   "file_extension": ".py",
   "mimetype": "text/x-python",
   "name": "python",
   "nbconvert_exporter": "python",
   "pygments_lexer": "ipython3",
   "version": "3.12.7"
  }
 },
 "nbformat": 4,
 "nbformat_minor": 5
}
