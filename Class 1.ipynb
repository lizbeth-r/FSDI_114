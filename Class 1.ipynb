{
 "cells": [
  {
   "cell_type": "code",
   "execution_count": 2,
   "id": "b2715740-34d1-4443-8d1c-6136c2742f0d",
   "metadata": {},
   "outputs": [
    {
     "name": "stdout",
     "output_type": "stream",
     "text": [
      "h\n",
      "e\n",
      "l\n",
      "l\n",
      "o\n",
      ",\n",
      "w\n",
      "o\n",
      "r\n",
      "l\n",
      "d\n",
      "!\n"
     ]
    }
   ],
   "source": [
    "for char in \"hello,world!\":\n",
    "    print(char)"
   ]
  },
  {
   "cell_type": "markdown",
   "id": "4dd98763-4161-4afd-8456-67b29f56940b",
   "metadata": {},
   "source": [
    "# Stacks and Queues\n",
    "Stacks and queues are ordered collections of elements. The ordering principle is important."
   ]
  },
  {
   "cell_type": "code",
   "execution_count": 17,
   "id": "4cba7e4a-4e1c-4222-8033-2d72193dd089",
   "metadata": {},
   "outputs": [],
   "source": [
    "# Simplified implementation of Stack (relying on built-ins)\n",
    "\n",
    "class Stack:\n",
    "    def __init__(self):\n",
    "        self.items = []\n",
    "\n",
    "    def push(self, value):\n",
    "        self.items.append(value)\n",
    "\n",
    "    def pop(self):\n",
    "        return self.items.pop()\n",
    "\n",
    "    #Nice to have methods\n",
    "    def peek(self):\n",
    "        return self.items[len(self.items)-1]\n",
    "\n",
    "    def size(self):\n",
    "        return len(self.items)\n",
    "\n",
    "    def is_empty(self):\n",
    "        return self.items == []"
   ]
  },
  {
   "cell_type": "code",
   "execution_count": 29,
   "id": "3f28d33b-5629-4ef6-ba56-27d3457e710d",
   "metadata": {},
   "outputs": [],
   "source": [
    "# From scratch implementation of Stack\n",
    "\n",
    "class StackII:\n",
    "    class __Node:\n",
    "        def __init__(self, data):\n",
    "            self.data = data\n",
    "            self.below = None\n",
    "\n",
    "    def __init__(self):\n",
    "        self.top = None\n",
    "\n",
    "    def push(self, value):\n",
    "        new_node = self.__Node(value)\n",
    "        if not self.top:\n",
    "            self.top = new_node\n",
    "        else:\n",
    "            new_node.below = self.top\n",
    "            self.top = new_node\n",
    "\n",
    "    def pop(self):\n",
    "        if self.top:\n",
    "            datum = self.top.data\n",
    "            self.top = self.top.below\n",
    "            return datum\n",
    "        raise IndexError(\"Stack is empty\")\n",
    "\n",
    "    # Nice to have methods\n",
    "    def peek(self):\n",
    "        if self.top:\n",
    "            return self.top.data\n",
    "        raise IndexError(\"Stack is empty\")\n",
    "\n",
    "    def size(self):\n",
    "        # Node traversal\n",
    "        count = 0\n",
    "        if self.top:\n",
    "            current = self.top\n",
    "            while current:\n",
    "                count += 1\n",
    "                current = current.below\n",
    "            return count\n",
    "\n",
    "    def is_empty(self):\n",
    "        return self.top == None"
   ]
  },
  {
   "cell_type": "code",
   "execution_count": 30,
   "id": "240c6c83-0ff5-4f31-95cd-57888f6de60a",
   "metadata": {},
   "outputs": [],
   "source": [
    "def invert_str(mystring, class_name):\n",
    "    stack = class_name()\n",
    "    for char in mystring:\n",
    "        stack.push(char)\n",
    "    out = \"\"\n",
    "    while not stack.is_empty():\n",
    "        out += stack.pop()\n",
    "    return out"
   ]
  },
  {
   "cell_type": "code",
   "execution_count": 32,
   "id": "9b16df38-7202-46d9-bf12-a47c3d0c56dd",
   "metadata": {},
   "outputs": [
    {
     "name": "stdout",
     "output_type": "stream",
     "text": [
      "htebziL\n",
      "htebziL\n"
     ]
    }
   ],
   "source": [
    "# with built-in implementation:\n",
    "print( invert_str(\"Lizbeth\", Stack) )\n",
    "\n",
    "#with from-scratch implementation:\n",
    "print( invert_str(\"Lizbeth\", StackII) )"
   ]
  },
  {
   "cell_type": "code",
   "execution_count": 34,
   "id": "a235e9b8-e79a-4930-95bf-1dafc4db6463",
   "metadata": {},
   "outputs": [],
   "source": [
    "# Built-in implementation of Queues\n",
    "\n",
    "class Queue:\n",
    "    def _init_(self) :\n",
    "        self.items = []\n",
    "    \n",
    "    def enqueue(self, value):\n",
    "        self. items. insert(0, value)\n",
    "\n",
    "    def dequeue (self) :\n",
    "        return self.items.pop ()\n",
    "\n",
    "    # Nice to have methods\n",
    "    def peek(self):\n",
    "        return self.items[len(self.items)-1]\n",
    "\n",
    "    def size(self):\n",
    "        return len(self.items)\n",
    "\n",
    "    def is_empty(self):\n",
    "        return self.items == []"
   ]
  },
  {
   "cell_type": "code",
   "execution_count": null,
   "id": "c10d84c2-8314-4dbe-9e93-3144df1f4e9f",
   "metadata": {},
   "outputs": [],
   "source": [
    "# From scratch implementation of QueueII\n",
    "\n",
    "class QueuelI:\n",
    "    class _Node:\n",
    "        def _init_ (self, data) :\n",
    "            self.data = data\n",
    "            self.next = None\n",
    "            \n",
    "    def _init__(self) :\n",
    "        self.back = None\n",
    "        self.front = None\n",
    "\n",
    "    def enqueue (self, value):\n",
    "        pass\n",
    "        \n",
    "    def dequeue (self) :\n",
    "        pass\n",
    "\n",
    "    def peek(self):\n",
    "        pass\n",
    "\n",
    "    def size(self):\n",
    "        pass\n",
    "\n",
    "    def is_empty(self):\n",
    "        pass \n",
    "        \n",
    "    # Note: implement the nice to have methods for extra points!"
   ]
  }
 ],
 "metadata": {
  "kernelspec": {
   "display_name": "Python 3 (ipykernel)",
   "language": "python",
   "name": "python3"
  },
  "language_info": {
   "codemirror_mode": {
    "name": "ipython",
    "version": 3
   },
   "file_extension": ".py",
   "mimetype": "text/x-python",
   "name": "python",
   "nbconvert_exporter": "python",
   "pygments_lexer": "ipython3",
   "version": "3.12.7"
  }
 },
 "nbformat": 4,
 "nbformat_minor": 5
}
